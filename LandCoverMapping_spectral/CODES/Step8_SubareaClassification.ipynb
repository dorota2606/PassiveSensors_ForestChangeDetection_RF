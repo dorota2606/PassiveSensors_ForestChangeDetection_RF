{
 "cells": [
  {
   "cell_type": "markdown",
   "id": "e8e47f10",
   "metadata": {},
   "source": [
    "# 1) Spatial Data Prediction (GRID point Classification for subareas)\n",
    "\n",
    "    This code automates the process of predicting classifications for spatial features, leveraging a pre-trained Random Forest model. It reads CSV files containing geographical features and their geometries, performs data preprocessing (including missing value imputation and feature scaling), and uses the model to predict classifications for each spatial feature, finally saving the results to new CSV files."
   ]
  },
  {
   "cell_type": "code",
   "execution_count": null,
   "id": "78a3cf0b",
   "metadata": {},
   "outputs": [],
   "source": [
    "import os\n",
    "import time\n",
    "import geopandas as gpd\n",
    "import pandas as pd\n",
    "import rasterio\n",
    "import shapely\n",
    "from rasterio.plot import show\n",
    "import pickle\n",
    "import numpy as np\n",
    "from sklearn.impute import SimpleImputer\n",
    "from sklearn.preprocessing import MinMaxScaler, RobustScaler\n",
    "from shapely import wkt\n",
    "\n",
    "csv_folder = '/path/to/feature_value_extraction_csv/'\n",
    "result_csv = '/path/to/save/prediction_result_csv/'\n",
    "\n",
    "start = time.process_time()\n",
    "\n",
    "csv_files = [file for file in os.listdir(csv_folder) if file.endswith(\".csv\")]\n",
    "\n",
    "for csv_file in csv_files:\n",
    "    csv_path = os.path.join(csv_folder, csv_file)\n",
    "    print(\"Processing:\", csv_path)\n",
    "    s = time.process_time()\n",
    "    try:\n",
    "        df = pd.read_csv(csv_path)\n",
    "        grid_gdf = gpd.GeoDataFrame(data=df, \n",
    "                                    geometry=df['geometry'].apply(shapely.wkt.loads), \n",
    "                                    crs=\"EPSG:32631\")\n",
    "\n",
    "        grid_features = df.iloc[:, 2 : df.shape[1]]\n",
    "        inputation = SimpleImputer(missing_values=np.nan, strategy=\"median\")\n",
    "        grid_features_filled = inputation.fit_transform(grid_features)\n",
    "        \n",
    "        filename = \"/path/to/RF_model.sav\"\n",
    "        loaded_model = pickle.load(open(filename, \"rb\"))\n",
    "        \n",
    "        result = pd.DataFrame(loaded_model.predict(grid_features_filled))\n",
    "        \n",
    "        df1 = pd.merge(df.iloc[:, 1], result, left_index=True, right_index=True)\n",
    "        df1.columns = [\"geometry\", \"pred_class\"]\n",
    "\n",
    "        output_csv_path = os.path.join(result_csv, f\"predicted_{csv_file}\")\n",
    "        df1.to_csv(output_csv_path, sep=\",\", index=False, header=True)\n",
    "        \n",
    "        print(\"Predictions saved to:\", output_csv_path)\n",
    "        \n",
    "    except Exception as e:\n",
    "        print(\"Error processing:\", csv_path)\n",
    "        print(\"Error:\", e)\n",
    "    print(f\"Processing time in [min]\", (time.process_time() - s) / 60)\n",
    "\n",
    "print(\"Prediction process completed\")\n",
    "print(\"Processing time in [min]\", (time.process_time() - start) / 60)"
   ]
  }
 ],
 "metadata": {
  "kernelspec": {
   "display_name": "Python 3 (ipykernel)",
   "language": "python",
   "name": "python3"
  },
  "language_info": {
   "codemirror_mode": {
    "name": "ipython",
    "version": 3
   },
   "file_extension": ".py",
   "mimetype": "text/x-python",
   "name": "python",
   "nbconvert_exporter": "python",
   "pygments_lexer": "ipython3",
   "version": "3.10.13"
  }
 },
 "nbformat": 4,
 "nbformat_minor": 5
}
