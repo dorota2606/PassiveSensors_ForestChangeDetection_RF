{
 "cells": [
  {
   "cell_type": "markdown",
   "id": "42183cfd",
   "metadata": {},
   "source": [
    "# 1) Calculating Land Cover Classification Statistics for Specific Regions\n",
    "\n",
    "    This code calculates and records the statistics of land cover classifications within specified regions based on raster data and shapefiles. It reads a raster file representing land cover classification, applies masks based on vector boundaries from shapefiles, computes the area and percentage share of each land cover class within those boundaries, and then saves these statistics to a text file for each region.    "
   ]
  },
  {
   "cell_type": "code",
   "execution_count": null,
   "id": "660e3146",
   "metadata": {},
   "outputs": [],
   "source": [
    "import os\n",
    "import rasterio\n",
    "import geopandas as gpd\n",
    "import numpy as np\n",
    "from rasterio.features import geometry_mask\n",
    "from rasterio.transform import from_origin\n",
    "\n",
    "\n",
    "output_folder_path = r'/path/to/save/statistics/'\n",
    "\n",
    "folder_path = r\"/path/to/merged_classification_files/\"\n",
    "file_name = \"classification.tif\"\n",
    "\n",
    "shp_files = [r'/path/to/area_boundaries/boundaries.shp', \n",
    "             '/path/to/area_boundaries/region1.shp',\n",
    "             '/path/to/area_boundaries/region2.shp']\n",
    "\n",
    "def calculate_statistics(raster, transform, shp_file_path, region_name):\n",
    "    boundaries = gpd.read_file(shp_file_path)\n",
    "\n",
    "    raster_mask = geometry_mask(boundaries.geometry, transform=transform, out_shape=raster.shape)\n",
    "    raster_masked = np.where(raster_mask, np.nan, raster)\n",
    "\n",
    "    unique_values = np.unique(raster_masked[~np.isnan(raster_masked)])\n",
    "    print(f'Unique classes for {region_name}:', unique_values)\n",
    "\n",
    "    stats = {}\n",
    "\n",
    "    total_area_pixels = np.sum(~np.isnan(raster_masked))\n",
    "    for i in unique_values:\n",
    "        class_pixels = np.sum(raster_masked == i)\n",
    "        class_area_m2 = class_pixels * transform.a * -transform.e  \n",
    "        class_area_km2 = class_area_m2 / 1e6 \n",
    "        class_percentage = (class_pixels / total_area_pixels) * 100  \n",
    "\n",
    "        stats[f'Class {int(i)}'] = {\n",
    "            'Total area [m²]': class_area_m2,\n",
    "            'Total area [km²]': class_area_km2,\n",
    "            'Percentage share': class_percentage,\n",
    "        }\n",
    "\n",
    "    return stats\n",
    "\n",
    "with rasterio.open(os.path.join(folder_path, file_name)) as src:\n",
    "    raster = src.read(1) \n",
    "    transform = src.transform\n",
    "\n",
    "    for shp_file_path in shp_files:\n",
    "        region_name = os.path.splitext(os.path.basename(shp_file_path))[0]\n",
    "        \n",
    "        stats = calculate_statistics(raster, transform, shp_file_path, region_name)\n",
    "\n",
    "        output_file_path = os.path.join(output_folder_path, f'statistics_{file_name}.txt') \n",
    "        with open(output_file_path, 'w', encoding='utf-8') as f:\n",
    "            f.write(f'Statistics for region: {region_name}\\n')\n",
    "            for class_name, class_stats in stats.items():\n",
    "                f.write(f'\\nStatistics for {class_name}:\\n')\n",
    "                for stat_name, value in class_stats.items():\n",
    "                    f.write(f'{stat_name}: {value:.2f}\\n')"
   ]
  }
 ],
 "metadata": {
  "kernelspec": {
   "display_name": "Python 3 (ipykernel)",
   "language": "python",
   "name": "python3"
  },
  "language_info": {
   "codemirror_mode": {
    "name": "ipython",
    "version": 3
   },
   "file_extension": ".py",
   "mimetype": "text/x-python",
   "name": "python",
   "nbconvert_exporter": "python",
   "pygments_lexer": "ipython3",
   "version": "3.10.13"
  }
 },
 "nbformat": 4,
 "nbformat_minor": 5
}
