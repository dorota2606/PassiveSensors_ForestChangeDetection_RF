{
 "cells": [
  {
   "cell_type": "markdown",
   "id": "fe5519b6",
   "metadata": {},
   "source": [
    "# 1) Cropping GeoTIFF Images to a Shapefile Area\n",
    "\n",
    "    This code defines a function crop_tiffs_to_shp that automates the process of cropping GeoTIFF images to the boundaries defined by a shapefile, then saves the cropped images to a specified output directory, efficiently handling large spatial datasets by incorporating garbage collection and time tracking for the process."
   ]
  },
  {
   "cell_type": "code",
   "execution_count": null,
   "id": "e0a02d1c",
   "metadata": {},
   "outputs": [],
   "source": [
    "import geopandas as gpd\n",
    "import os\n",
    "import rasterio\n",
    "from rasterio.mask import mask\n",
    "from shapely.geometry import mapping\n",
    "import time\n",
    "import gc\n",
    "\n",
    "def crop_tiffs_to_shp(input_folder, output_folder, shapefile_path):\n",
    "    shapefile = gpd.read_file(shapefile_path)\n",
    "    gc.collect()\n",
    "    \n",
    "    for filename in os.listdir(input_folder):\n",
    "        if filename.endswith('.tif'):\n",
    "            tiff_path = os.path.join(input_folder, filename)\n",
    "            \n",
    "            with rasterio.open(tiff_path) as src:\n",
    "                shapefile_crs = shapefile.to_crs(src.crs)\n",
    "                \n",
    "                out_image, out_transform = mask(src, [mapping(shapefile_crs.geometry[0])], crop=True)\n",
    "                \n",
    "                out_meta = src.meta.copy()\n",
    "                out_meta.update({\n",
    "                    \"driver\": \"GTiff\",\n",
    "                    \"height\": out_image.shape[1],\n",
    "                    \"width\": out_image.shape[2],\n",
    "                    \"transform\": out_transform\n",
    "                })\n",
    "                \n",
    "                output_tiff_path = os.path.join(output_folder, f\"{filename}\")\n",
    "                with rasterio.open(output_tiff_path, \"w\", **out_meta) as dest:\n",
    "                    dest.write(out_image)\n",
    "                    \n",
    "input_folder_path = '/path/to/mosaic/'\n",
    "output_folder_path = '/path/to/save/mosaic_clip/'\n",
    "shapefile_path = '/path/to/area_boundaries/boundaries.shp'\n",
    "\n",
    "start = time.process_time()\n",
    "crop_tiffs_to_shp(input_folder_path, output_folder_path, shapefile_path)\n",
    "\n",
    "print(\"Clipping completed. Images saved in:\", output_folder_path)\n",
    "print(\"Processing time [min]\", (time.process_time() - start) / 60)"
   ]
  }
 ],
 "metadata": {
  "kernelspec": {
   "display_name": "Python 3 (ipykernel)",
   "language": "python",
   "name": "python3"
  },
  "language_info": {
   "codemirror_mode": {
    "name": "ipython",
    "version": 3
   },
   "file_extension": ".py",
   "mimetype": "text/x-python",
   "name": "python",
   "nbconvert_exporter": "python",
   "pygments_lexer": "ipython3",
   "version": "3.10.13"
  }
 },
 "nbformat": 4,
 "nbformat_minor": 5
}
