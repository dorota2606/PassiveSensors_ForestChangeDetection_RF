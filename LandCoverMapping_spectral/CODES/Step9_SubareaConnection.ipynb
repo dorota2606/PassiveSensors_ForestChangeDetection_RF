{
 "cells": [
  {
   "cell_type": "markdown",
   "id": "7500c535",
   "metadata": {},
   "source": [
    "# 1) Conversion of CSV Prediction Results to Geotiff Format\n",
    "\n",
    "    This code processes CSV files containing predicted classifications with spatial coordinates, converts them into geospatial dataframes using GeoPandas and Shapely, and then exports these as geotiff raster files using the geocube library, allowing spatial analysis and visualization of prediction results."
   ]
  },
  {
   "cell_type": "code",
   "execution_count": null,
   "id": "f283d5f6",
   "metadata": {},
   "outputs": [],
   "source": [
    "import os\n",
    "import time\n",
    "import pandas as pd\n",
    "import geopandas as gpd\n",
    "import shapely\n",
    "from geocube.api.core import make_geocube\n",
    "\n",
    "csv_folder = '/path/to/prediction_result_csv/'\n",
    "result_tif = '/path/to/save/prediction_result_tif/'\n",
    "\n",
    "start = time.process_time()\n",
    "\n",
    "csv_files = [file for file in os.listdir(csv_folder) if file.startswith(\"predicted\") and file.endswith(\".csv\")]\n",
    "\n",
    "for csv_file in csv_files:\n",
    "    csv_path = os.path.join(csv_folder, csv_file)\n",
    "    print(\"Processing:\", csv_path)\n",
    "    s = time.process_time()\n",
    "    try:\n",
    "        df = pd.read_csv(csv_path)\n",
    "        \n",
    "        grid_prediction_gdf = gpd.GeoDataFrame(data=df, \n",
    "                            geometry=df['geometry'].apply(shapely.wkt.loads), crs=\"EPSG:32631\")\n",
    "        \n",
    "        csv_file_short = csv_file[10:23] \n",
    "        geotif_file = os.path.join(result_tif,f\"Vector_classification_{csv_file_short}_2022-12.tif\")\n",
    "        \n",
    "        res = 20\n",
    "        \n",
    "        out_grd = make_geocube(vector_data=grid_prediction_gdf, \n",
    "                               measurements=[\"pred_class\"], \n",
    "                               resolution=(-res, res))\n",
    "\n",
    "        out_grd[\"pred_class\"].rio.to_raster(geotif_file)\n",
    "        \n",
    "        print(\"Classification result in geotiff write as:\", geotif_file)\n",
    "        \n",
    "        \n",
    "    except Exception as e:\n",
    "        print(\"Error processing:\", csv_path)\n",
    "        print(\"Error:\", e)\n",
    "    print(\"Processing time in [min]\",( time.process_time() - s)/60)\n",
    "    \n",
    "print(\"Processing for all CSV files completed\")\n",
    "print(\"Processing time in [min]\", (time.process_time() - start) / 60)"
   ]
  },
  {
   "cell_type": "markdown",
   "id": "a771b45a",
   "metadata": {},
   "source": [
    "# 2) Merging TIFF Files\n",
    "\n",
    "    This code snippet utilizes GDAL, a geospatial data abstraction library, to merge multiple TIFF files located in a specified directory into a single TIFF file, intended for applications in geographic information systems (GIS). It collects all TIFF files within a given folder, constructs a list of their paths, and then executes a GDAL command to merge these files, outputting the result to a specified location."
   ]
  },
  {
   "cell_type": "code",
   "execution_count": null,
   "id": "a26039d9",
   "metadata": {},
   "outputs": [],
   "source": [
    "from osgeo import gdal\n",
    "import glob\n",
    "import subprocess\n",
    "import os\n",
    "\n",
    "folder = '/path/to/prediction_result_tif/'\n",
    "\n",
    "tif_files = [file for file in os.listdir(folder) if file.endswith(\".tif\")]\n",
    "\n",
    "demList = [os.path.join(csv_folder, file) for file in tif_files]\n",
    "print(demList)\n",
    "\n",
    "cmd = \"/path/to/gdal_merge.py -ps 20 -20 -o /path/to/save/merged_classification.tif\"\n",
    "subprocess.call(cmd.split()+demList)\n",
    "\n",
    "print(\"Merging was successful\")"
   ]
  }
 ],
 "metadata": {
  "kernelspec": {
   "display_name": "Python 3 (ipykernel)",
   "language": "python",
   "name": "python3"
  },
  "language_info": {
   "codemirror_mode": {
    "name": "ipython",
    "version": 3
   },
   "file_extension": ".py",
   "mimetype": "text/x-python",
   "name": "python",
   "nbconvert_exporter": "python",
   "pygments_lexer": "ipython3",
   "version": "3.10.13"
  }
 },
 "nbformat": 4,
 "nbformat_minor": 5
}
