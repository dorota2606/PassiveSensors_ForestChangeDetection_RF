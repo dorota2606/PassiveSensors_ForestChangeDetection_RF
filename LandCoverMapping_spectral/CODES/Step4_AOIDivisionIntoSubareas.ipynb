{
 "cells": [
  {
   "cell_type": "markdown",
   "id": "2e140364",
   "metadata": {},
   "source": [
    "# 1) Tiling a Geographic Area into Fixed Size Squares Using GeoPandas and Shapely\n",
    "\n",
    "    This code reads a shapefile representing area boundaries using GeoPandas, then iterates over the area to divide it into square tiles of a specified size (40,000 meters on each side), using Shapely for geometry operations. For each tile that intersects with the input shapefile's features, it saves a new shapefile representing that tile. This process is aimed at segmenting a large geographic area into manageable pieces for further analysis or processing."
   ]
  },
  {
   "cell_type": "code",
   "execution_count": null,
   "id": "5d9cdb12",
   "metadata": {},
   "outputs": [],
   "source": [
    "import geopandas as gpd\n",
    "from shapely.geometry import box\n",
    "import os\n",
    "\n",
    "input_shapefile = '/path/to/area_boundaries/boundaries.shp'\n",
    "gdf = gpd.read_file(input_shapefile)\n",
    "\n",
    "width = 40000\n",
    "height = 40000\n",
    "\n",
    "minx = gdf.total_bounds[0]\n",
    "maxy = gdf.total_bounds[3]\n",
    "tile_number = 1\n",
    "\n",
    "while maxy >= gdf.total_bounds[1]:\n",
    "    miny = maxy - height\n",
    "    maxx = minx + width\n",
    "    \n",
    "    tile_geometry = box(minx, miny, maxx, maxy)\n",
    "    tile_gdf = gpd.GeoDataFrame(geometry=[tile_geometry])\n",
    "    \n",
    "    intersected_features = gdf[gdf.intersects(tile_geometry)]\n",
    "\n",
    "    if not intersected_features.empty:\n",
    "        tile_name = f\"AOI_{tile_number}.shp\"\n",
    "        output_folder = '/path/to/save/tiles/'\n",
    "        tile_path = os.path.join(output_folder, tile_name)\n",
    "        tile_gdf.to_file(tile_path)\n",
    "        \n",
    "        tile_number += 1\n",
    "\n",
    "    minx += width\n",
    "    \n",
    "    if minx >= gdf.total_bounds[2]:\n",
    "        minx = gdf.total_bounds[0]\n",
    "        maxy -= height\n",
    "\n",
    "print(\"Processed SHP file into tiles.\")"
   ]
  }
 ],
 "metadata": {
  "kernelspec": {
   "display_name": "Python 3 (ipykernel)",
   "language": "python",
   "name": "python3"
  },
  "language_info": {
   "codemirror_mode": {
    "name": "ipython",
    "version": 3
   },
   "file_extension": ".py",
   "mimetype": "text/x-python",
   "name": "python",
   "nbconvert_exporter": "python",
   "pygments_lexer": "ipython3",
   "version": "3.10.13"
  }
 },
 "nbformat": 4,
 "nbformat_minor": 5
}
