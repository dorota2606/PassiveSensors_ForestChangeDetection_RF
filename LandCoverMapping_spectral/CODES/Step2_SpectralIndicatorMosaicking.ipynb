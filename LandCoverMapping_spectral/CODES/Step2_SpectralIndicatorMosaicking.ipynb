{
 "cells": [
  {
   "cell_type": "markdown",
   "id": "ecf1035a",
   "metadata": {},
   "source": [
    "# 1) Converting and Merging TIFF Files with Nodata Value Adjustment\n",
    "\n",
    "    This code converts zero values to a predefined no-data value in a collection of TIFF files, then merges these modified files into a single TIFF. It utilizes the GDAL library for reading and writing geospatial raster data, and numpy for array manipulation. After converting zero values to the specified no-data value (-9999) in each file, it merges the modified files into one using the gdal_merge.py script, indicating a successful operation through print statements."
   ]
  },
  {
   "cell_type": "code",
   "execution_count": null,
   "id": "96a0ae40",
   "metadata": {},
   "outputs": [],
   "source": [
    "from osgeo import gdal\n",
    "import numpy as np\n",
    "import os\n",
    "import subprocess\n",
    "\n",
    "tif_folder = '/path/to/save/indices/'\n",
    "\n",
    "tif_files = [file for file in os.listdir(tifv_folder) if file.endswith(\".tif\")]\n",
    "\n",
    "converted_files = []\n",
    "nodata_value = -9999 \n",
    "\n",
    "for file in tif_files:\n",
    "    input_path = os.path.join(tif_folder, file)\n",
    "    output_path = os.path.join(tif_folder, \"nan_converted_\" + file)\n",
    "\n",
    "    dataset = gdal.Open(input_path)\n",
    "    band = dataset.GetRasterBand(1)\n",
    "\n",
    "    data = band.ReadAsArray()\n",
    "    data = np.where(data == 0, nodata_value, data)\n",
    "\n",
    "    driver = gdal.GetDriverByName('GTiff')\n",
    "    out_dataset = driver.Create(output_path, band.XSize, band.YSize, 1, band.DataType)\n",
    "    out_band = out_dataset.GetRasterBand(1)\n",
    "\n",
    "    out_band.SetNoDataValue(np.nan)\n",
    "    out_band.WriteArray(data)\n",
    "\n",
    "    out_dataset.SetGeoTransform(dataset.GetGeoTransform())\n",
    "    out_dataset.SetProjection(dataset.GetProjection())\n",
    "    out_dataset.FlushCache()\n",
    "\n",
    "    converted_files.append(output_path)\n",
    "\n",
    "output_file = \"/path/to/save/mosaic/index_name.tif\"\n",
    "\n",
    "gdal_merge_path = r'path/to/gdal_merge.py' \n",
    "cmd = f\"python {gdal_merge_path} -ps 20 -20 -o {output_file}\"\n",
    "\n",
    "subprocess.call(cmd.split() + converted_files)\n",
    "\n",
    "print(\"Merging was successful\")"
   ]
  }
 ],
 "metadata": {
  "kernelspec": {
   "display_name": "Python 3 (ipykernel)",
   "language": "python",
   "name": "python3"
  },
  "language_info": {
   "codemirror_mode": {
    "name": "ipython",
    "version": 3
   },
   "file_extension": ".py",
   "mimetype": "text/x-python",
   "name": "python",
   "nbconvert_exporter": "python",
   "pygments_lexer": "ipython3",
   "version": "3.10.13"
  }
 },
 "nbformat": 4,
 "nbformat_minor": 5
}
