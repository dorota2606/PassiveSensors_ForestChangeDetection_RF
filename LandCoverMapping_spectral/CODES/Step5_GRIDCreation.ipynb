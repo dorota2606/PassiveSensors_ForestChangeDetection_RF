{
 "cells": [
  {
   "cell_type": "markdown",
   "id": "a1df9b79",
   "metadata": {},
   "source": [
    "# 1) Generating Grid Points Within Shapefile Boundaries\n",
    "\n",
    "    This code walks through a specified input folder to find shapefiles (.shp), then generates and saves a grid of points spaced by a given pixel size within the boundaries of each shapefile. It sets the coordinate reference system (CRS) for each shapefile, calculates the number of points to fit within the shapefile's bounding box based on the pixel size, and filters out points that do not fall within the shapefile's geometries before saving them to a specified output folder."
   ]
  },
  {
   "cell_type": "code",
   "execution_count": null,
   "id": "d400ca73",
   "metadata": {},
   "outputs": [],
   "source": [
    "import os\n",
    "import geopandas as gpd\n",
    "from shapely.geometry import Point\n",
    "\n",
    "input_folder = '/path/to/tiles/'\n",
    "\n",
    "output_folder = '/path/to/save/grid_points'\n",
    "\n",
    "pixel_size = 20 \n",
    "\n",
    "for root, dirs, files in os.walk(input_folder):\n",
    "    for file in files:\n",
    "        if file.endswith(\".shp\"):\n",
    "            shp_path = os.path.join(root, file)\n",
    "            gdf = gpd.read_file(shp_path)\n",
    "\n",
    "            gdf.crs = f\"EPSG:32631\"\n",
    "\n",
    "            bbox = gdf.bounds.iloc[0]\n",
    "\n",
    "            num_points_x = int((bbox.maxx - bbox.minx) / pixel_size) + 1\n",
    "            num_points_y = int((bbox.maxy - bbox.miny) / pixel_size) + 1\n",
    "\n",
    "            points = []\n",
    "            for i in range(num_points_x):\n",
    "                for j in range(num_points_y):\n",
    "                    x = bbox.minx + i * pixel_size + 0.5 * pixel_size\n",
    "                    y = bbox.miny + j * pixel_size + 0.5 * pixel_size\n",
    "                    point = Point(x, y)\n",
    "                    if gdf.geometry.contains(point).any():\n",
    "                        points.append(point)\n",
    "\n",
    "            points_gdf = gpd.GeoDataFrame(geometry=points, crs=gdf.crs)\n",
    "\n",
    "            output_path = os.path.join(output_folder, f\"{file}\")\n",
    "            points_gdf.to_file(output_path)\n",
    "            \n",
    "print(\"Process completed\")"
   ]
  }
 ],
 "metadata": {
  "kernelspec": {
   "display_name": "Python 3 (ipykernel)",
   "language": "python",
   "name": "python3"
  },
  "language_info": {
   "codemirror_mode": {
    "name": "ipython",
    "version": 3
   },
   "file_extension": ".py",
   "mimetype": "text/x-python",
   "name": "python",
   "nbconvert_exporter": "python",
   "pygments_lexer": "ipython3",
   "version": "3.10.13"
  }
 },
 "nbformat": 4,
 "nbformat_minor": 5
}
