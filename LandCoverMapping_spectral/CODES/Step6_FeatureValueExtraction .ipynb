{
 "cells": [
  {
   "cell_type": "markdown",
   "id": "91811b02",
   "metadata": {},
   "source": [
    "# 1) Feature Value Extraction from Raster Data\n",
    "\n",
    "    This code automates the process of extracting feature values from raster files (.tif) based on coordinates defined in shapefiles (.shp), then cleans and saves the extracted data into CSV files for further analysis."
   ]
  },
  {
   "cell_type": "code",
   "execution_count": null,
   "id": "c524302e",
   "metadata": {},
   "outputs": [],
   "source": [
    "import os\n",
    "import time\n",
    "import geopandas as gpd\n",
    "import rasterio\n",
    "import numpy as np\n",
    "import gc\n",
    "\n",
    "start = time.process_time()\n",
    "\n",
    "shp_folder = '/path/to/grid_points/'\n",
    "tif_folder = '/path/to/mosaic_clip/'\n",
    "output_csv_folder = '/path/to/save/feature_value_extraction_csv/'\n",
    "\n",
    "shp_files = []\n",
    "for root, dirs, files in os.walk(shp_folder):\n",
    "    for file in files:\n",
    "        if file.endswith(\".shp\"):\n",
    "            shp_files.append(os.path.join(root, file))\n",
    "\n",
    "for shp_file in shp_files:\n",
    "    shapefile_path = shp_file\n",
    "    print(\"Processing:\", shapefile_path)\n",
    "\n",
    "    s = time.process_time()\n",
    "    gc.collect()\n",
    "\n",
    "    try:\n",
    "        grid_df = gpd.read_file(shapefile_path)\n",
    "        \n",
    "        tif_files = [file for file in os.listdir(tif_folder) if file.endswith(\".tif\")]\n",
    "        tif_files_sorted = sorted(tif_files)\n",
    "        \n",
    "        def get_raster_values(tif_file, coords):\n",
    "            with rasterio.open(os.path.join(tif_folder, tif_file)) as src:\n",
    "                values = [x[0] for x in src.sample(coords)]\n",
    "            return values\n",
    "        \n",
    "        for tif_file in tif_files_sorted:\n",
    "            column_name = os.path.splitext(tif_file)[0]\n",
    "            coord_list = [(x, y) for x, y in zip(grid_df[\"geometry\"].x, grid_df[\"geometry\"].y)]\n",
    "            grid_df[column_name] = get_raster_values(tif_file, coord_list)\n",
    "\n",
    "        grid_df_cleaned = grid_df.dropna()\n",
    "\n",
    "        print(\"Cleaned DataFrame:\")\n",
    "        print(grid_df_cleaned)\n",
    "\n",
    "        output_csv = os.path.join(output_csv_folder, f\"{os.path.splitext(os.path.basename(shp_file))[0]}_extracted_trening_samples_2022-12.csv\")\n",
    "        grid_df_cleaned.to_csv(output_csv, sep=\",\", index=False, header=True)\n",
    "        gc.collect()\n",
    "        \n",
    "        del grid_df\n",
    "\n",
    "    except Exception as e:\n",
    "        print(\"Error processing:\", shapefile_path)\n",
    "        print(\"Error:\", e)\n",
    "\n",
    "    print(\"Processing time for spectral indexes in [min]\", (time.process_time() - s) / 60)\n",
    "\n",
    "print(\"Features extracted to CSV files\")\n",
    "print(\"Processing time in [min]\", (time.process_time() - start) / 60)"
   ]
  }
 ],
 "metadata": {
  "kernelspec": {
   "display_name": "Python 3 (ipykernel)",
   "language": "python",
   "name": "python3"
  },
  "language_info": {
   "codemirror_mode": {
    "name": "ipython",
    "version": 3
   },
   "file_extension": ".py",
   "mimetype": "text/x-python",
   "name": "python",
   "nbconvert_exporter": "python",
   "pygments_lexer": "ipython3",
   "version": "3.10.13"
  }
 },
 "nbformat": 4,
 "nbformat_minor": 5
}
