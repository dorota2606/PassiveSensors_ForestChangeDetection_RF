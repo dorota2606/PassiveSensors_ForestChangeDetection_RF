{
 "cells": [
  {
   "cell_type": "markdown",
   "id": "4aab1986-bf31-4418-a4ec-3357bef52df0",
   "metadata": {},
   "source": [
    "# 1) Feature value extraction - validation points\n",
    "\n",
    "    This code processes satellite imagery to validate forest cover predictions by comparing raster data from .tif files with validation points in a .shp file, saving the results to CSV files for further analysis."
   ]
  },
  {
   "cell_type": "code",
   "execution_count": null,
   "id": "595bd615-ab11-41a5-8b92-481a4ce3a8a8",
   "metadata": {},
   "outputs": [],
   "source": [
    "import os\n",
    "import geopandas as gpd\n",
    "import pandas as pd\n",
    "import rasterio\n",
    "from rasterio.plot import show\n",
    "from shapely.geometry import box\n",
    "import time\n",
    "\n",
    "os.environ['USE_PYGEOS'] = '0'\n",
    "\n",
    "shp_folder = \"/path/to/tiles/validation_points/shp\"\n",
    "output_folder = 'path/to/save/extracted_feature_values/csv'\n",
    "tif_folder = '/path/to/tif_files/sentinel2'\n",
    "\n",
    "tif_files = [file for file in os.listdir(tif_folder) if file.endswith('.tif')]\n",
    "\n",
    "start = time.process_time()\n",
    "\n",
    "shp_file_name = \"validation_points.shp\" \n",
    "shp_file_path = os.path.join(shp_folder, shp_file_name)\n",
    "pointData = gpd.read_file(shp_file_path)\n",
    "pointData = pointData[pointData['geometry'].notnull()]\n",
    "\n",
    "for tif_file_name in tif_files:\n",
    "    tif_file_path = os.path.join(tif_folder, tif_file_name)\n",
    "    base_name_without_extension = os.path.splitext(tif_file_name)[0]\n",
    "\n",
    "    with rasterio.open(tif_file_path) as tif_src:\n",
    "        tif_bounds = tif_src.bounds\n",
    "        tif_box = box(*tif_bounds)\n",
    "\n",
    "    pointData_in_tif = pointData[pointData.geometry.intersects(tif_box)]\n",
    "\n",
    "    def get_raster_values(tif_file, coords):\n",
    "        with rasterio.open(tif_file) as src:\n",
    "            return [x[0] for x in src.sample(coords)]\n",
    "\n",
    "    coord_list = [(x, y) for x, y in zip(pointData_in_tif[\"geometry\"].x, pointData_in_tif[\"geometry\"].y)]\n",
    "    pointData_in_tif[base_name_without_extension] = get_raster_values(tif_file_path, coord_list)\n",
    "\n",
    "    result_df = pd.DataFrame({\n",
    "        'geometry': pointData_in_tif['geometry'],\n",
    "        'target': pointData_in_tif['class'],\n",
    "        'predicted': pointData_in_tif[base_name_without_extension]\n",
    "    })\n",
    "\n",
    "    output_csv_name = f'{base_name_without_extension}_predicted.csv'\n",
    "    output_csv_path = os.path.join(output_folder, output_csv_name)\n",
    "    result_df.to_csv(output_csv_path, index=False)\n",
    "\n",
    "    print(f\"Saved result to {output_csv_path}, Number of matched points: {len(result_df)}\")\n",
    "\n",
    "print(\"\\nProcessing time in [s]:\", time.process_time() - start)\n",
    "print(\"\\nAll results saved successfully :)\")\n"
   ]
  }
 ],
 "metadata": {
  "kernelspec": {
   "display_name": "Python 3 (ipykernel)",
   "language": "python",
   "name": "python3"
  },
  "language_info": {
   "codemirror_mode": {
    "name": "ipython",
    "version": 3
   },
   "file_extension": ".py",
   "mimetype": "text/x-python",
   "name": "python",
   "nbconvert_exporter": "python",
   "pygments_lexer": "ipython3",
   "version": "3.10.13"
  }
 },
 "nbformat": 4,
 "nbformat_minor": 5
}
